{
 "cells": [
  {
   "cell_type": "code",
   "execution_count": 145,
   "metadata": {},
   "outputs": [],
   "source": [
    "import numpy as np\n",
    "\n",
    "\n",
    "class Tree(object):\n",
    "    def __init__(self, root):\n",
    "        self.root = root\n",
    "    \"\"\"\n",
    "    def get_value_root(self):\n",
    "        if self.root is not None:\n",
    "            return self.root.value\n",
    "        else:\n",
    "            return None\n",
    "    \"\"\"\n",
    "\n",
    "    def get_height(self, root):\n",
    "        if not root:\n",
    "            return 0\n",
    "        return 1 + max(self.get_height(root.left), self.get_height(root.right))\n",
    "\n",
    "    def printTree(self, root):\n",
    "        N = self.get_height(root)\n",
    "        M = 2 ** N - 1\n",
    "        ret = [[\"|\"] * M for x in range(N)]\n",
    "        bfs = [(root, 0, 0, M)]\n",
    "        for x in bfs:\n",
    "            node, i, l, r = x[0], x[1], x[2], x[3]\n",
    "            j = (r + l) // 2\n",
    "            ret[i][j] = str(node.value)\n",
    "            if node.left:\n",
    "                bfs.append((node.left, i + 1, l, j))\n",
    "            if node.right:\n",
    "                bfs.append((node.right, i + 1, j, r))\n",
    "        #return np.mat(ret)\n",
    "        return ret\n",
    "\n",
    "\n",
    "class Node(object):\n",
    "\n",
    "    def __init__(self, value, left, right):\n",
    "        self.value = value\n",
    "        self.left = left\n",
    "        self.right = right"
   ]
  },
  {
   "cell_type": "code",
   "execution_count": 152,
   "metadata": {},
   "outputs": [
    {
     "name": "stdout",
     "output_type": "stream",
     "text": [
      "[['|', '|', '|', '1', '|', '|', '|'], ['|', '2', '|', '|', '|', '3', '|'], ['4', '|', '|', '|', '|', '|', '|']]\n"
     ]
    }
   ],
   "source": [
    "a = Node(1, Node(2, Node(4, None, None), None), Node(3, None, None))\n",
    "b = Tree(a)\n",
    "print (b.printTree(a))"
   ]
  },
  {
   "cell_type": "code",
   "execution_count": 135,
   "metadata": {},
   "outputs": [],
   "source": [
    "res4 = b.printTree(a)"
   ]
  },
  {
   "cell_type": "code",
   "execution_count": 136,
   "metadata": {},
   "outputs": [
    {
     "data": {
      "text/plain": [
       "[['|', '|', '|', '1', '|', '|', '|'],\n",
       " ['|', '2', '|', '|', '|', '3', '|'],\n",
       " ['4', '|', '|', '|', '|', '|', '|']]"
      ]
     },
     "execution_count": 136,
     "metadata": {},
     "output_type": "execute_result"
    }
   ],
   "source": [
    "res4"
   ]
  },
  {
   "cell_type": "code",
   "execution_count": 84,
   "metadata": {
    "scrolled": true
   },
   "outputs": [
    {
     "data": {
      "text/plain": [
       "numpy.matrixlib.defmatrix.matrix"
      ]
     },
     "execution_count": 84,
     "metadata": {},
     "output_type": "execute_result"
    }
   ],
   "source": [
    "type(b.printTree(a))"
   ]
  },
  {
   "cell_type": "code",
   "execution_count": 149,
   "metadata": {},
   "outputs": [],
   "source": [
    "a = Node(1, b, c)\n",
    "b = Node(2, d, None)\n",
    "c = Node(3, None, None)\n",
    "d = Node(4, None, None)\n",
    "e = Tree(a)"
   ]
  },
  {
   "cell_type": "code",
   "execution_count": 150,
   "metadata": {},
   "outputs": [
    {
     "data": {
      "text/plain": [
       "<__main__.Node at 0x7fc859cd33d0>"
      ]
     },
     "execution_count": 150,
     "metadata": {},
     "output_type": "execute_result"
    }
   ],
   "source": [
    "a"
   ]
  },
  {
   "cell_type": "code",
   "execution_count": 151,
   "metadata": {},
   "outputs": [
    {
     "data": {
      "text/plain": [
       "[['|', '|', '|', '1', '|', '|', '|'],\n",
       " ['|', '2', '|', '|', '|', '3', '|'],\n",
       " ['4', '|', '|', '|', '|', '|', '|']]"
      ]
     },
     "execution_count": 151,
     "metadata": {},
     "output_type": "execute_result"
    }
   ],
   "source": [
    "e.printTree(a)"
   ]
  },
  {
   "cell_type": "code",
   "execution_count": 141,
   "metadata": {},
   "outputs": [
    {
     "ename": "AttributeError",
     "evalue": "'Tree' object has no attribute 'left'",
     "output_type": "error",
     "traceback": [
      "\u001b[0;31m---------------------------------------------------------------------------\u001b[0m",
      "\u001b[0;31mAttributeError\u001b[0m                            Traceback (most recent call last)",
      "\u001b[0;32m<ipython-input-141-58729d5410e3>\u001b[0m in \u001b[0;36m<module>\u001b[0;34m()\u001b[0m\n\u001b[0;32m----> 1\u001b[0;31m \u001b[0;32mprint\u001b[0m \u001b[0;34m(\u001b[0m\u001b[0me\u001b[0m\u001b[0;34m.\u001b[0m\u001b[0mprintTree\u001b[0m\u001b[0;34m(\u001b[0m\u001b[0ma\u001b[0m\u001b[0;34m)\u001b[0m\u001b[0;34m)\u001b[0m\u001b[0;34m\u001b[0m\u001b[0m\n\u001b[0m",
      "\u001b[0;32m<ipython-input-133-2cda28cf5c6d>\u001b[0m in \u001b[0;36mprintTree\u001b[0;34m(self, root)\u001b[0m\n\u001b[1;32m     19\u001b[0m \u001b[0;34m\u001b[0m\u001b[0m\n\u001b[1;32m     20\u001b[0m     \u001b[0;32mdef\u001b[0m \u001b[0mprintTree\u001b[0m\u001b[0;34m(\u001b[0m\u001b[0mself\u001b[0m\u001b[0;34m,\u001b[0m \u001b[0mroot\u001b[0m\u001b[0;34m)\u001b[0m\u001b[0;34m:\u001b[0m\u001b[0;34m\u001b[0m\u001b[0m\n\u001b[0;32m---> 21\u001b[0;31m         \u001b[0mN\u001b[0m \u001b[0;34m=\u001b[0m \u001b[0mself\u001b[0m\u001b[0;34m.\u001b[0m\u001b[0mget_height\u001b[0m\u001b[0;34m(\u001b[0m\u001b[0mroot\u001b[0m\u001b[0;34m)\u001b[0m\u001b[0;34m\u001b[0m\u001b[0m\n\u001b[0m\u001b[1;32m     22\u001b[0m         \u001b[0mM\u001b[0m \u001b[0;34m=\u001b[0m \u001b[0;36m2\u001b[0m \u001b[0;34m**\u001b[0m \u001b[0mN\u001b[0m \u001b[0;34m-\u001b[0m \u001b[0;36m1\u001b[0m\u001b[0;34m\u001b[0m\u001b[0m\n\u001b[1;32m     23\u001b[0m         \u001b[0mret\u001b[0m \u001b[0;34m=\u001b[0m \u001b[0;34m[\u001b[0m\u001b[0;34m[\u001b[0m\u001b[0;34m\"|\"\u001b[0m\u001b[0;34m]\u001b[0m \u001b[0;34m*\u001b[0m \u001b[0mM\u001b[0m \u001b[0;32mfor\u001b[0m \u001b[0mx\u001b[0m \u001b[0;32min\u001b[0m \u001b[0mrange\u001b[0m\u001b[0;34m(\u001b[0m\u001b[0mN\u001b[0m\u001b[0;34m)\u001b[0m\u001b[0;34m]\u001b[0m\u001b[0;34m\u001b[0m\u001b[0m\n",
      "\u001b[0;32m<ipython-input-133-2cda28cf5c6d>\u001b[0m in \u001b[0;36mget_height\u001b[0;34m(self, root)\u001b[0m\n\u001b[1;32m     16\u001b[0m         \u001b[0;32mif\u001b[0m \u001b[0;32mnot\u001b[0m \u001b[0mroot\u001b[0m\u001b[0;34m:\u001b[0m\u001b[0;34m\u001b[0m\u001b[0m\n\u001b[1;32m     17\u001b[0m             \u001b[0;32mreturn\u001b[0m \u001b[0;36m0\u001b[0m\u001b[0;34m\u001b[0m\u001b[0m\n\u001b[0;32m---> 18\u001b[0;31m         \u001b[0;32mreturn\u001b[0m \u001b[0;36m1\u001b[0m \u001b[0;34m+\u001b[0m \u001b[0mmax\u001b[0m\u001b[0;34m(\u001b[0m\u001b[0mself\u001b[0m\u001b[0;34m.\u001b[0m\u001b[0mget_height\u001b[0m\u001b[0;34m(\u001b[0m\u001b[0mroot\u001b[0m\u001b[0;34m.\u001b[0m\u001b[0mleft\u001b[0m\u001b[0;34m)\u001b[0m\u001b[0;34m,\u001b[0m \u001b[0mself\u001b[0m\u001b[0;34m.\u001b[0m\u001b[0mget_height\u001b[0m\u001b[0;34m(\u001b[0m\u001b[0mroot\u001b[0m\u001b[0;34m.\u001b[0m\u001b[0mright\u001b[0m\u001b[0;34m)\u001b[0m\u001b[0;34m)\u001b[0m\u001b[0;34m\u001b[0m\u001b[0m\n\u001b[0m\u001b[1;32m     19\u001b[0m \u001b[0;34m\u001b[0m\u001b[0m\n\u001b[1;32m     20\u001b[0m     \u001b[0;32mdef\u001b[0m \u001b[0mprintTree\u001b[0m\u001b[0;34m(\u001b[0m\u001b[0mself\u001b[0m\u001b[0;34m,\u001b[0m \u001b[0mroot\u001b[0m\u001b[0;34m)\u001b[0m\u001b[0;34m:\u001b[0m\u001b[0;34m\u001b[0m\u001b[0m\n",
      "\u001b[0;32m<ipython-input-133-2cda28cf5c6d>\u001b[0m in \u001b[0;36mget_height\u001b[0;34m(self, root)\u001b[0m\n\u001b[1;32m     16\u001b[0m         \u001b[0;32mif\u001b[0m \u001b[0;32mnot\u001b[0m \u001b[0mroot\u001b[0m\u001b[0;34m:\u001b[0m\u001b[0;34m\u001b[0m\u001b[0m\n\u001b[1;32m     17\u001b[0m             \u001b[0;32mreturn\u001b[0m \u001b[0;36m0\u001b[0m\u001b[0;34m\u001b[0m\u001b[0m\n\u001b[0;32m---> 18\u001b[0;31m         \u001b[0;32mreturn\u001b[0m \u001b[0;36m1\u001b[0m \u001b[0;34m+\u001b[0m \u001b[0mmax\u001b[0m\u001b[0;34m(\u001b[0m\u001b[0mself\u001b[0m\u001b[0;34m.\u001b[0m\u001b[0mget_height\u001b[0m\u001b[0;34m(\u001b[0m\u001b[0mroot\u001b[0m\u001b[0;34m.\u001b[0m\u001b[0mleft\u001b[0m\u001b[0;34m)\u001b[0m\u001b[0;34m,\u001b[0m \u001b[0mself\u001b[0m\u001b[0;34m.\u001b[0m\u001b[0mget_height\u001b[0m\u001b[0;34m(\u001b[0m\u001b[0mroot\u001b[0m\u001b[0;34m.\u001b[0m\u001b[0mright\u001b[0m\u001b[0;34m)\u001b[0m\u001b[0;34m)\u001b[0m\u001b[0;34m\u001b[0m\u001b[0m\n\u001b[0m\u001b[1;32m     19\u001b[0m \u001b[0;34m\u001b[0m\u001b[0m\n\u001b[1;32m     20\u001b[0m     \u001b[0;32mdef\u001b[0m \u001b[0mprintTree\u001b[0m\u001b[0;34m(\u001b[0m\u001b[0mself\u001b[0m\u001b[0;34m,\u001b[0m \u001b[0mroot\u001b[0m\u001b[0;34m)\u001b[0m\u001b[0;34m:\u001b[0m\u001b[0;34m\u001b[0m\u001b[0m\n",
      "\u001b[0;31mAttributeError\u001b[0m: 'Tree' object has no attribute 'left'"
     ]
    }
   ],
   "source": [
    "print (e.printTree(a))"
   ]
  },
  {
   "cell_type": "code",
   "execution_count": 122,
   "metadata": {},
   "outputs": [],
   "source": [
    "res1  = a.printTree(e)"
   ]
  },
  {
   "cell_type": "code",
   "execution_count": 128,
   "metadata": {},
   "outputs": [
    {
     "data": {
      "text/plain": [
       "matrix([['|', '|', '|', '|', '|', '|', '|', '7', '|', '|', '|', '|', '|',\n",
       "         '|', '|'],\n",
       "        ['|', '|', '|', '|', '|', '|', '|', '|', '|', '|', '|', '5', '|',\n",
       "         '|', '|'],\n",
       "        ['|', '|', '|', '|', '|', '|', '|', '|', '|', '2', '|', '|', '|',\n",
       "         '|', '|'],\n",
       "        ['|', '|', '|', '|', '|', '|', '|', '|', '1', '|', '|', '|', '|',\n",
       "         '|', '|']], dtype='|S1')"
      ]
     },
     "execution_count": 128,
     "metadata": {},
     "output_type": "execute_result"
    }
   ],
   "source": [
    "np.mat(res1)"
   ]
  },
  {
   "cell_type": "code",
   "execution_count": 123,
   "metadata": {},
   "outputs": [
    {
     "data": {
      "text/plain": [
       "list"
      ]
     },
     "execution_count": 123,
     "metadata": {},
     "output_type": "execute_result"
    }
   ],
   "source": [
    "type(res1)"
   ]
  },
  {
   "cell_type": "code",
   "execution_count": null,
   "metadata": {},
   "outputs": [],
   "source": [
    "from tree.tree import Tree, Node\n",
    "import unittest\n",
    "import numpy as np\n",
    "\n",
    "\n",
    "class test_Printtree(unittest.TestCase):\n",
    "    def test_printtree(self):\n",
    "        b = Node(1, None, None)\n",
    "        c = Node(2, b, None)\n",
    "        d = Node(5, c, None)\n",
    "        e = Node(7, None, d)\n",
    "        a = Tree(e)\n",
    "\n",
    "        res = np.array([['|', '|', '|', '7', '|', '|', '|'],\n",
    "                        ['|', '|', '|', '|', '5', '|', '|'],\n",
    "                        ['|', '|', '|', '2', '|', '|', '|'],\n",
    "                        ['|', '|', '1', '|', '|', '|', '|']])\n",
    "        assert len(res) == len(a.printTree(e))"
   ]
  },
  {
   "cell_type": "code",
   "execution_count": 124,
   "metadata": {},
   "outputs": [],
   "source": [
    "res2 = [['|', '|', '|', 7, '|', '|', '|'],\n",
    "                        ['|', '|', '|', '|', 5, '|', '|'],\n",
    "                        ['|', '|', '|', 2, '|', '|', '|'],\n",
    "                        ['|', '|', 1, '|', '|', '|', '|']]"
   ]
  },
  {
   "cell_type": "code",
   "execution_count": 137,
   "metadata": {},
   "outputs": [],
   "source": [
    "res3 = [['|', '|', '|', '1', '|', '|', '|'],\n",
    "                        ['|', '2', '|', '|', '|', '3', '|'],\n",
    "                        ['4', '|', '|', '|', '|', '|', '|']]"
   ]
  },
  {
   "cell_type": "code",
   "execution_count": 138,
   "metadata": {},
   "outputs": [
    {
     "data": {
      "text/plain": [
       "[['|', '|', '|', '1', '|', '|', '|'],\n",
       " ['|', '2', '|', '|', '|', '3', '|'],\n",
       " ['4', '|', '|', '|', '|', '|', '|']]"
      ]
     },
     "execution_count": 138,
     "metadata": {},
     "output_type": "execute_result"
    }
   ],
   "source": [
    "res3"
   ]
  },
  {
   "cell_type": "code",
   "execution_count": 155,
   "metadata": {
    "scrolled": true
   },
   "outputs": [
    {
     "data": {
      "text/plain": [
       "[['|', '|', '|', '1', '|', '|', '|'],\n",
       " ['|', '2', '|', '|', '|', '3', '|'],\n",
       " ['4', '|', '|', '|', '|', '|', '|']]"
      ]
     },
     "execution_count": 155,
     "metadata": {},
     "output_type": "execute_result"
    }
   ],
   "source": [
    "res4"
   ]
  },
  {
   "cell_type": "code",
   "execution_count": 126,
   "metadata": {},
   "outputs": [
    {
     "data": {
      "text/plain": [
       "list"
      ]
     },
     "execution_count": 126,
     "metadata": {},
     "output_type": "execute_result"
    }
   ],
   "source": [
    "type(res2)"
   ]
  },
  {
   "cell_type": "code",
   "execution_count": 154,
   "metadata": {},
   "outputs": [
    {
     "data": {
      "text/plain": [
       "True"
      ]
     },
     "execution_count": 154,
     "metadata": {},
     "output_type": "execute_result"
    }
   ],
   "source": [
    "res3 == res4"
   ]
  },
  {
   "cell_type": "code",
   "execution_count": 88,
   "metadata": {},
   "outputs": [
    {
     "data": {
      "text/plain": [
       "numpy.matrixlib.defmatrix.matrix"
      ]
     },
     "execution_count": 88,
     "metadata": {},
     "output_type": "execute_result"
    }
   ],
   "source": [
    "type(res)"
   ]
  },
  {
   "cell_type": "code",
   "execution_count": null,
   "metadata": {},
   "outputs": [],
   "source": [
    "\"\"\"\n",
    "if __name__ == '__main__':\n",
    "    a = Node(1, None, None)\n",
    "    b = Tree(a)\n",
    "\n",
    "    print(b.get_value_root())\n",
    "\"\"\"\n",
    "\n",
    "if __name__ == '__main__':\n",
    "    a = Node(1, Node(2, Node(4, None, None), None), Node(3, None, None))\n",
    "    b = Tree(a)\n",
    "    print(b.printTree(a))\n",
    "\n",
    "\n"
   ]
  },
  {
   "cell_type": "code",
   "execution_count": 5,
   "metadata": {},
   "outputs": [
    {
     "name": "stdout",
     "output_type": "stream",
     "text": [
      "[['|' '|' '|' '1' '|' '|' '|']\n",
      " ['|' '2' '|' '|' '|' '3' '|']\n",
      " ['4' '|' '|' '|' '|' '|' '|']]\n"
     ]
    }
   ],
   "source": [
    "import numpy as np\n",
    "\n",
    "class Tree(object):\n",
    "   def __init__(self, root):\n",
    "       self.root = root\n",
    "\n",
    "   def height(self, root):\n",
    "       if not root:\n",
    "           return 0\n",
    "       return 1 + max(self.height(root.left), self.height(root.right))\n",
    "\n",
    "   def print_tree(self, root):\n",
    "       height = self.height(root)\n",
    "       width = 2 ** height - 1\n",
    "       result = [[\"|\"] * width for h in range(height)]\n",
    "\n",
    "       bfs = [(root, 0, 0, width)]\n",
    "       for x in bfs:\n",
    "           curr_node, i, l, r = x[0], x[1], x[2], x[3]\n",
    "           j = int(np.floor((l + r)/2))\n",
    "           result[i][j] = str(curr_node.value)\n",
    "           if curr_node.left:\n",
    "               bfs.append((curr_node.left, i + 1, l, j))\n",
    "           if curr_node.right:\n",
    "               bfs.append((curr_node.right, i + 1, j, r))\n",
    "\n",
    "       return np.mat(result)\n",
    "\n",
    "class Node(object):\n",
    "\n",
    "   def __init__(self, value, left, right):\n",
    "       self.value = value\n",
    "       self.left = left\n",
    "       self.right = right\n",
    "\n",
    "\n",
    "if __name__ == '__main__':\n",
    "   a = Node(1, Node(2, Node(4, None, None), None), Node(3, None, None))\n",
    "   b = Tree(a)\n",
    "\n",
    "   print (b.print_tree(a))"
   ]
  },
  {
   "cell_type": "code",
   "execution_count": null,
   "metadata": {},
   "outputs": [],
   "source": [
    "# Haoqi\n",
    "\n",
    "import numpy as np\n",
    "\n",
    "class BlankObj:\n",
    "    def __repr__(self):\n",
    "        return \"\"\n",
    "\n",
    "class Tree(object):\n",
    "   def __init__(self, root):\n",
    "       self.root = root\n",
    "\n",
    "   def get_value_root(self):\n",
    "       if self.root is not None:\n",
    "           return self.root.value\n",
    "       else:\n",
    "           return None\n",
    "\n",
    "   def height(self, root):\n",
    "       if not root:\n",
    "           return 0\n",
    "       return 1 + max(self.height(root.left), self.height(root.right))\n",
    "\n",
    "   def print_tree(self, root):\n",
    "       height = self.height(root)\n",
    "       width = 2 ** height - 1\n",
    "       result = [[\"|\"] * width for h in range(height)]\n",
    "\n",
    "       bfs = [(root, 0, 0, width)]\n",
    "       for x in bfs:\n",
    "           curr_node, i, l, r = x[0], x[1], x[2], x[3]\n",
    "           j = int(np.floor((l + r)/2))\n",
    "           result[i][j] = str(curr_node.value)\n",
    "           if curr_node.left:\n",
    "               bfs.append((curr_node.left, i + 1, l, j))\n",
    "           if curr_node.right:\n",
    "               bfs.append((curr_node.right, i + 1, j, r))\n",
    "\n",
    "       return np.mat(result)\n",
    "\n",
    "\n",
    "\n",
    "class Node(object):\n",
    "\n",
    "   def __init__(self, value, left, right):\n",
    "       self.value = value\n",
    "       self.left = left\n",
    "       self.right = right\n",
    "\n",
    "\n",
    "if __name__ == '__main__':\n",
    "   a = Node(1, Node(2, Node(4, None, None), None), Node(3, None, None))\n",
    "   b = Tree(a)\n",
    "\n",
    "   print (b.print_tree(a))"
   ]
  },
  {
   "cell_type": "code",
   "execution_count": null,
   "metadata": {},
   "outputs": [],
   "source": [
    "from tree.create_tree import Tree, Node\n",
    "\n",
    "import unittest\n",
    "\n",
    "\n",
    "class TestPrinttree(unittest.TestCase):\n",
    "    def test_printtree(self):\n",
    "        b = Node(1, None, None)\n",
    "        c = Node(2, b, None)\n",
    "        d = Node(5, c, None)\n",
    "        e = Node(7, None, d)\n",
    "        a = Tree(e)\n",
    "\n",
    "        res = [['|', '|', '|', 7, '|', '|', '|'], ['|', '|', '|', '|', 5, '|', '|'], ['|', '|', '|', 2, '|', '|', '|'],\n",
    "               ['|', '|', 1, '|', '|', '|', '|']]\n",
    "        for i in range(4):\n",
    "            res[i] = ''.join(list(map(str, res[i])))\n",
    "        assert '\\n'.join(res) == a.print_tree()"
   ]
  },
  {
   "cell_type": "code",
   "execution_count": 2,
   "metadata": {},
   "outputs": [
    {
     "ename": "ImportError",
     "evalue": "No module named hw2.tree.tree",
     "output_type": "error",
     "traceback": [
      "\u001b[0;31m---------------------------------------------------------------------------\u001b[0m",
      "\u001b[0;31mImportError\u001b[0m                               Traceback (most recent call last)",
      "\u001b[0;32m<ipython-input-2-064cdc36355d>\u001b[0m in \u001b[0;36m<module>\u001b[0;34m()\u001b[0m\n\u001b[0;32m----> 1\u001b[0;31m \u001b[0;32mfrom\u001b[0m \u001b[0mhw2\u001b[0m\u001b[0;34m.\u001b[0m\u001b[0mtree\u001b[0m\u001b[0;34m.\u001b[0m\u001b[0mtree\u001b[0m \u001b[0;32mimport\u001b[0m \u001b[0mTree\u001b[0m\u001b[0;34m,\u001b[0m \u001b[0mNode\u001b[0m\u001b[0;34m\u001b[0m\u001b[0m\n\u001b[0m",
      "\u001b[0;31mImportError\u001b[0m: No module named hw2.tree.tree"
     ]
    }
   ],
   "source": [
    "from hw2.tree.tree import Tree, Node"
   ]
  },
  {
   "cell_type": "code",
   "execution_count": 81,
   "metadata": {},
   "outputs": [
    {
     "name": "stdout",
     "output_type": "stream",
     "text": [
      "1.65587390185e-16\n"
     ]
    }
   ],
   "source": [
    "import numpy as np\n",
    "from scipy import optimize\n",
    "\n",
    "def rosenbrock_func(x):\n",
    "    \"\"\"\n",
    "    calculate value of rosenbrock function with n=3\n",
    "    :param x: a list of independent variables\n",
    "    :return: the value of the rosenbrock function at point x\n",
    "    \"\"\"\n",
    "    return 100 * (x[1] - x[0] **2) **2 + (1 - x[0]) ** 2 + 100 * (x[2] - x[1] ** 2) ** 2 + (1 - x[1]) ** 2\n",
    "\n",
    "def rosenbrock_grad(x):\n",
    "    \"\"\"\n",
    "    calculate value of the gradient of rosenbrock function with n=3\n",
    "    :param x: a list of independent variables\n",
    "    :return: the value of the gradient of rosenbrock function at point x\n",
    "    \"\"\"\n",
    "    return np.array([-400*x[0]*(x[1]-x[0]**2) - 2*(1-x[0]), \n",
    "                     200*(x[1]-x[0]**2) - 400*x[1]*(x[2]-x[1]**2) - 2*(1-x[1]), \n",
    "                     200*(x[2]-x[1]**2)])\n",
    "\n",
    "if __name__ == \"__main__\":\n",
    "    x1 = [1, 3, 5]\n",
    "    x2 = [-4, 5, 99]\n",
    "    x3 = [66, 91, 20000]\n",
    "    x4 = [34, 1, -5]\n",
    "    x5 = [-7, 20, -82]\n",
    "    x = [x1, x2, x3, x4, x5]\n",
    "    res = []\n",
    "    for x0 in x:\n",
    "        res.append(optimize.minimize(rosenbrock_func, x0, method='BFGS', jac=rosenbrock_grad).fun)\n",
    "    print(min(res))"
   ]
  },
  {
   "cell_type": "code",
   "execution_count": 76,
   "metadata": {},
   "outputs": [],
   "source": [
    "def rosenbrock_func(x):\n",
    "    return 100 * (x[1] - x[0] **2) **2 + (1 - x[0]) ** 2 + 100 * (x[2] - x[1] ** 2) ** 2 + (1 - x[1]) ** 2\n"
   ]
  },
  {
   "cell_type": "code",
   "execution_count": 77,
   "metadata": {},
   "outputs": [],
   "source": [
    "def rosenbrock_grad(x):\n",
    "    return np.array([-400*x[0]*(x[1]-x[0]**2) - 2*(1-x[0]), \n",
    "                     200*(x[1]-x[0]**2) - 400*x[1]*(x[2]-x[1]**2) - 2*(1-x[1]), \n",
    "                     200*(x[2]-x[1]**2)])"
   ]
  },
  {
   "cell_type": "code",
   "execution_count": 78,
   "metadata": {},
   "outputs": [
    {
     "name": "stdout",
     "output_type": "stream",
     "text": [
      "1.30221688731e-16\n"
     ]
    }
   ],
   "source": [
    "x1 = [222, 4, 1]\n",
    "x2 = [-4, 5, 99]\n",
    "x3 = [66, 91, 20000]\n",
    "x4 = [34, 1, -5]\n",
    "x5 = [2, -5, 2]\n",
    "x = [x1, x2, x3, x4, x5]\n",
    "res = []\n",
    "for x0 in x:\n",
    "    res.append(optimize.minimize(rosenbrock_func, x0, method='BFGS', jac=rosenbrock_grad).fun)\n",
    "print(min(res))"
   ]
  },
  {
   "cell_type": "code",
   "execution_count": 17,
   "metadata": {},
   "outputs": [
    {
     "name": "stdout",
     "output_type": "stream",
     "text": [
      "1.30221708545e-16\n"
     ]
    }
   ],
   "source": [
    "import numpy as np\n",
    "from scipy import optimize\n",
    "\n",
    "\n",
    "def Rosenbrock(x):\n",
    "    \"\"\"\n",
    "    This is the function for Rosenbrock with n=3\n",
    "    :param x: a list representing the input vector [x1,x2,x3]\n",
    "    :return: a number which is the Rosenbrock value\n",
    "    \"\"\"\n",
    "    return 100 * (x[2] - x[1] ** 2) ** 2 + (1 - x[1]) ** 2 + 100 * (x[1] - x[0] ** 2) ** 2 + (1 - x[0]) ** 2\n",
    "\n",
    "\n",
    "def gradient(x):\n",
    "    \"\"\"\n",
    "    This is the calculate the gradident of Rosenbrock when n=3\n",
    "    :param x: a list representing the input vector [x1,x2,x3]\n",
    "    :return: a list representing the gradient vector, which has length of 3\n",
    "    \"\"\"\n",
    "    return np.array([-400 * x[0] * x[1] + 400 * x[0] ** 3 - 2 * (1 - x[0]),\n",
    "                     -400 * x[1] * x[2] + 400 * x[1] ** 3 - 2 * (1 - x[1]) + 200 * (x[1] - x[0] ** 2),\n",
    "                     200 * (x[2] - x[1] ** 2)])\n",
    "\n",
    "\n",
    "if __name__ == \"__main__\":\n",
    "    x1 = [222, 4, 1]\n",
    "    x2 = [-4, 5, 99]\n",
    "    x3 = [66, 91, 20000]\n",
    "    x4 = [34, 1, -5]\n",
    "    x5 = [2, -5, 2]\n",
    "    x = [x1, x2, x3, x4, x5]\n",
    "    res = []\n",
    "    for x0 in x:\n",
    "        res.append(optimize.minimize(Rosenbrock, x0, method='BFGS', jac=gradient).fun)\n",
    "    print(min(res))"
   ]
  },
  {
   "cell_type": "code",
   "execution_count": 24,
   "metadata": {},
   "outputs": [
    {
     "ename": "TypeError",
     "evalue": "'int' object is not callable",
     "output_type": "error",
     "traceback": [
      "\u001b[0;31m---------------------------------------------------------------------------\u001b[0m",
      "\u001b[0;31mTypeError\u001b[0m                                 Traceback (most recent call last)",
      "\u001b[0;32m<ipython-input-24-6c67e780af1d>\u001b[0m in \u001b[0;36m<module>\u001b[0;34m()\u001b[0m\n\u001b[0;32m----> 1\u001b[0;31m \u001b[0mrosenbrock_grad\u001b[0m\u001b[0;34m(\u001b[0m\u001b[0mx1\u001b[0m\u001b[0;34m)\u001b[0m\u001b[0;34m\u001b[0m\u001b[0m\n\u001b[0m",
      "\u001b[0;32m<ipython-input-21-eff913b20e67>\u001b[0m in \u001b[0;36mrosenbrock_grad\u001b[0;34m(x)\u001b[0m\n\u001b[1;32m      1\u001b[0m \u001b[0;32mdef\u001b[0m \u001b[0mrosenbrock_grad\u001b[0m\u001b[0;34m(\u001b[0m\u001b[0mx\u001b[0m\u001b[0;34m)\u001b[0m\u001b[0;34m:\u001b[0m\u001b[0;34m\u001b[0m\u001b[0m\n\u001b[0;32m----> 2\u001b[0;31m     \u001b[0;32mreturn\u001b[0m \u001b[0mnp\u001b[0m\u001b[0;34m.\u001b[0m\u001b[0marray\u001b[0m\u001b[0;34m(\u001b[0m\u001b[0;34m[\u001b[0m\u001b[0;34m-\u001b[0m\u001b[0;36m400\u001b[0m\u001b[0;34m*\u001b[0m\u001b[0mx\u001b[0m\u001b[0;34m[\u001b[0m\u001b[0;36m0\u001b[0m\u001b[0;34m]\u001b[0m\u001b[0;34m*\u001b[0m\u001b[0;34m(\u001b[0m\u001b[0mx\u001b[0m\u001b[0;34m[\u001b[0m\u001b[0;36m1\u001b[0m\u001b[0;34m]\u001b[0m\u001b[0;34m-\u001b[0m\u001b[0mx\u001b[0m\u001b[0;34m[\u001b[0m\u001b[0;36m0\u001b[0m\u001b[0;34m]\u001b[0m\u001b[0;34m**\u001b[0m\u001b[0;36m2\u001b[0m\u001b[0;34m)\u001b[0m \u001b[0;34m-\u001b[0m \u001b[0;36m2\u001b[0m\u001b[0;34m(\u001b[0m\u001b[0;36m1\u001b[0m\u001b[0;34m-\u001b[0m\u001b[0mx\u001b[0m\u001b[0;34m[\u001b[0m\u001b[0;36m0\u001b[0m\u001b[0;34m]\u001b[0m\u001b[0;34m)\u001b[0m \u001b[0;34m+\u001b[0m \u001b[0;36m200\u001b[0m\u001b[0;34m*\u001b[0m\u001b[0;34m(\u001b[0m\u001b[0mx\u001b[0m\u001b[0;34m[\u001b[0m\u001b[0;36m1\u001b[0m\u001b[0;34m]\u001b[0m\u001b[0;34m-\u001b[0m\u001b[0mx\u001b[0m\u001b[0;34m[\u001b[0m\u001b[0;36m0\u001b[0m\u001b[0;34m]\u001b[0m\u001b[0;34m**\u001b[0m\u001b[0;36m2\u001b[0m\u001b[0;34m)\u001b[0m\u001b[0;34m,\u001b[0m \u001b[0;36m200\u001b[0m\u001b[0;34m*\u001b[0m\u001b[0;34m(\u001b[0m\u001b[0mx\u001b[0m\u001b[0;34m[\u001b[0m\u001b[0;36m1\u001b[0m\u001b[0;34m]\u001b[0m\u001b[0;34m-\u001b[0m\u001b[0mx\u001b[0m\u001b[0;34m[\u001b[0m\u001b[0;36m0\u001b[0m\u001b[0;34m]\u001b[0m\u001b[0;34m**\u001b[0m\u001b[0;36m2\u001b[0m\u001b[0;34m)\u001b[0m \u001b[0;34m-\u001b[0m \u001b[0;36m400\u001b[0m\u001b[0;34m*\u001b[0m\u001b[0mx\u001b[0m\u001b[0;34m[\u001b[0m\u001b[0;36m1\u001b[0m\u001b[0;34m]\u001b[0m\u001b[0;34m*\u001b[0m\u001b[0;34m(\u001b[0m\u001b[0mx\u001b[0m\u001b[0;34m[\u001b[0m\u001b[0;36m2\u001b[0m\u001b[0;34m]\u001b[0m\u001b[0;34m-\u001b[0m\u001b[0mx\u001b[0m\u001b[0;34m[\u001b[0m\u001b[0;36m1\u001b[0m\u001b[0;34m]\u001b[0m\u001b[0;34m**\u001b[0m\u001b[0;36m2\u001b[0m\u001b[0;34m)\u001b[0m \u001b[0;34m-\u001b[0m \u001b[0;36m2\u001b[0m\u001b[0;34m*\u001b[0m\u001b[0;34m(\u001b[0m\u001b[0;36m1\u001b[0m\u001b[0;34m-\u001b[0m\u001b[0mx\u001b[0m\u001b[0;34m[\u001b[0m\u001b[0;36m1\u001b[0m\u001b[0;34m]\u001b[0m\u001b[0;34m)\u001b[0m\u001b[0;34m,\u001b[0m \u001b[0;36m200\u001b[0m\u001b[0;34m*\u001b[0m\u001b[0;34m(\u001b[0m\u001b[0mx\u001b[0m\u001b[0;34m[\u001b[0m\u001b[0;36m2\u001b[0m\u001b[0;34m]\u001b[0m\u001b[0;34m-\u001b[0m\u001b[0mx\u001b[0m\u001b[0;34m[\u001b[0m\u001b[0;36m1\u001b[0m\u001b[0;34m]\u001b[0m\u001b[0;34m**\u001b[0m\u001b[0;36m2\u001b[0m\u001b[0;34m)\u001b[0m\u001b[0;34m**\u001b[0m\u001b[0;36m2\u001b[0m\u001b[0;34m]\u001b[0m\u001b[0;34m)\u001b[0m\u001b[0;34m\u001b[0m\u001b[0m\n\u001b[0m",
      "\u001b[0;31mTypeError\u001b[0m: 'int' object is not callable"
     ]
    }
   ],
   "source": [
    "rosenbrock_grad(x1)"
   ]
  },
  {
   "cell_type": "code",
   "execution_count": 23,
   "metadata": {
    "scrolled": true
   },
   "outputs": [
    {
     "data": {
      "text/plain": [
       "242851911350"
      ]
     },
     "execution_count": 23,
     "metadata": {},
     "output_type": "execute_result"
    }
   ],
   "source": [
    "rosenbrock_func(x1)"
   ]
  },
  {
   "cell_type": "code",
   "execution_count": 50,
   "metadata": {},
   "outputs": [],
   "source": [
    "x = [222, 4, 1]"
   ]
  },
  {
   "cell_type": "code",
   "execution_count": 26,
   "metadata": {},
   "outputs": [
    {
     "ename": "TypeError",
     "evalue": "'int' object is not callable",
     "output_type": "error",
     "traceback": [
      "\u001b[0;31m---------------------------------------------------------------------------\u001b[0m",
      "\u001b[0;31mTypeError\u001b[0m                                 Traceback (most recent call last)",
      "\u001b[0;32m<ipython-input-26-7922dd292037>\u001b[0m in \u001b[0;36m<module>\u001b[0;34m()\u001b[0m\n\u001b[0;32m----> 1\u001b[0;31m \u001b[0mnp\u001b[0m\u001b[0;34m.\u001b[0m\u001b[0marray\u001b[0m\u001b[0;34m(\u001b[0m\u001b[0;34m[\u001b[0m\u001b[0;34m-\u001b[0m\u001b[0;36m400\u001b[0m\u001b[0;34m*\u001b[0m\u001b[0mx\u001b[0m\u001b[0;34m[\u001b[0m\u001b[0;36m0\u001b[0m\u001b[0;34m]\u001b[0m\u001b[0;34m*\u001b[0m\u001b[0;34m(\u001b[0m\u001b[0mx\u001b[0m\u001b[0;34m[\u001b[0m\u001b[0;36m1\u001b[0m\u001b[0;34m]\u001b[0m\u001b[0;34m-\u001b[0m\u001b[0mx\u001b[0m\u001b[0;34m[\u001b[0m\u001b[0;36m0\u001b[0m\u001b[0;34m]\u001b[0m\u001b[0;34m**\u001b[0m\u001b[0;36m2\u001b[0m\u001b[0;34m)\u001b[0m \u001b[0;34m-\u001b[0m \u001b[0;36m2\u001b[0m\u001b[0;34m(\u001b[0m\u001b[0;36m1\u001b[0m\u001b[0;34m-\u001b[0m\u001b[0mx\u001b[0m\u001b[0;34m[\u001b[0m\u001b[0;36m0\u001b[0m\u001b[0;34m]\u001b[0m\u001b[0;34m)\u001b[0m \u001b[0;34m+\u001b[0m \u001b[0;36m200\u001b[0m\u001b[0;34m*\u001b[0m\u001b[0;34m(\u001b[0m\u001b[0mx\u001b[0m\u001b[0;34m[\u001b[0m\u001b[0;36m1\u001b[0m\u001b[0;34m]\u001b[0m\u001b[0;34m-\u001b[0m\u001b[0mx\u001b[0m\u001b[0;34m[\u001b[0m\u001b[0;36m0\u001b[0m\u001b[0;34m]\u001b[0m\u001b[0;34m**\u001b[0m\u001b[0;36m2\u001b[0m\u001b[0;34m)\u001b[0m\u001b[0;34m,\u001b[0m \u001b[0;36m200\u001b[0m\u001b[0;34m*\u001b[0m\u001b[0;34m(\u001b[0m\u001b[0mx\u001b[0m\u001b[0;34m[\u001b[0m\u001b[0;36m1\u001b[0m\u001b[0;34m]\u001b[0m\u001b[0;34m-\u001b[0m\u001b[0mx\u001b[0m\u001b[0;34m[\u001b[0m\u001b[0;36m0\u001b[0m\u001b[0;34m]\u001b[0m\u001b[0;34m**\u001b[0m\u001b[0;36m2\u001b[0m\u001b[0;34m)\u001b[0m \u001b[0;34m-\u001b[0m \u001b[0;36m400\u001b[0m\u001b[0;34m*\u001b[0m\u001b[0mx\u001b[0m\u001b[0;34m[\u001b[0m\u001b[0;36m1\u001b[0m\u001b[0;34m]\u001b[0m\u001b[0;34m*\u001b[0m\u001b[0;34m(\u001b[0m\u001b[0mx\u001b[0m\u001b[0;34m[\u001b[0m\u001b[0;36m2\u001b[0m\u001b[0;34m]\u001b[0m\u001b[0;34m-\u001b[0m\u001b[0mx\u001b[0m\u001b[0;34m[\u001b[0m\u001b[0;36m1\u001b[0m\u001b[0;34m]\u001b[0m\u001b[0;34m**\u001b[0m\u001b[0;36m2\u001b[0m\u001b[0;34m)\u001b[0m \u001b[0;34m-\u001b[0m \u001b[0;36m2\u001b[0m\u001b[0;34m*\u001b[0m\u001b[0;34m(\u001b[0m\u001b[0;36m1\u001b[0m\u001b[0;34m-\u001b[0m\u001b[0mx\u001b[0m\u001b[0;34m[\u001b[0m\u001b[0;36m1\u001b[0m\u001b[0;34m]\u001b[0m\u001b[0;34m)\u001b[0m\u001b[0;34m,\u001b[0m \u001b[0;36m200\u001b[0m\u001b[0;34m*\u001b[0m\u001b[0;34m(\u001b[0m\u001b[0mx\u001b[0m\u001b[0;34m[\u001b[0m\u001b[0;36m2\u001b[0m\u001b[0;34m]\u001b[0m\u001b[0;34m-\u001b[0m\u001b[0mx\u001b[0m\u001b[0;34m[\u001b[0m\u001b[0;36m1\u001b[0m\u001b[0;34m]\u001b[0m\u001b[0;34m**\u001b[0m\u001b[0;36m2\u001b[0m\u001b[0;34m)\u001b[0m\u001b[0;34m**\u001b[0m\u001b[0;36m2\u001b[0m\u001b[0;34m]\u001b[0m\u001b[0;34m)\u001b[0m\u001b[0;34m\u001b[0m\u001b[0m\n\u001b[0m",
      "\u001b[0;31mTypeError\u001b[0m: 'int' object is not callable"
     ]
    }
   ],
   "source": [
    "np.array([-400*x[0]*(x[1]-x[0]**2) - 2(1-x[0]) + 200*(x[1]-x[0]**2), 200*(x[1]-x[0]**2) - 400*x[1]*(x[2]-x[1]**2) - 2*(1-x[1]), 200*(x[2]-x[1]**2)**2])"
   ]
  },
  {
   "cell_type": "code",
   "execution_count": 27,
   "metadata": {},
   "outputs": [
    {
     "ename": "TypeError",
     "evalue": "'int' object is not callable",
     "output_type": "error",
     "traceback": [
      "\u001b[0;31m---------------------------------------------------------------------------\u001b[0m",
      "\u001b[0;31mTypeError\u001b[0m                                 Traceback (most recent call last)",
      "\u001b[0;32m<ipython-input-27-79ce5a6f3c02>\u001b[0m in \u001b[0;36m<module>\u001b[0;34m()\u001b[0m\n\u001b[0;32m----> 1\u001b[0;31m \u001b[0;34m-\u001b[0m\u001b[0;36m400\u001b[0m\u001b[0;34m*\u001b[0m\u001b[0mx\u001b[0m\u001b[0;34m[\u001b[0m\u001b[0;36m0\u001b[0m\u001b[0;34m]\u001b[0m\u001b[0;34m*\u001b[0m\u001b[0;34m(\u001b[0m\u001b[0mx\u001b[0m\u001b[0;34m[\u001b[0m\u001b[0;36m1\u001b[0m\u001b[0;34m]\u001b[0m\u001b[0;34m-\u001b[0m\u001b[0mx\u001b[0m\u001b[0;34m[\u001b[0m\u001b[0;36m0\u001b[0m\u001b[0;34m]\u001b[0m\u001b[0;34m**\u001b[0m\u001b[0;36m2\u001b[0m\u001b[0;34m)\u001b[0m \u001b[0;34m-\u001b[0m \u001b[0;36m2\u001b[0m\u001b[0;34m(\u001b[0m\u001b[0;36m1\u001b[0m\u001b[0;34m-\u001b[0m\u001b[0mx\u001b[0m\u001b[0;34m[\u001b[0m\u001b[0;36m0\u001b[0m\u001b[0;34m]\u001b[0m\u001b[0;34m)\u001b[0m \u001b[0;34m+\u001b[0m \u001b[0;36m200\u001b[0m\u001b[0;34m*\u001b[0m\u001b[0;34m(\u001b[0m\u001b[0mx\u001b[0m\u001b[0;34m[\u001b[0m\u001b[0;36m1\u001b[0m\u001b[0;34m]\u001b[0m\u001b[0;34m-\u001b[0m\u001b[0mx\u001b[0m\u001b[0;34m[\u001b[0m\u001b[0;36m0\u001b[0m\u001b[0;34m]\u001b[0m\u001b[0;34m**\u001b[0m\u001b[0;36m2\u001b[0m\u001b[0;34m)\u001b[0m\u001b[0;34m\u001b[0m\u001b[0m\n\u001b[0m",
      "\u001b[0;31mTypeError\u001b[0m: 'int' object is not callable"
     ]
    }
   ],
   "source": [
    "-400*x[0]*(x[1]-x[0]**2) - 2(1-x[0]) + 200*(x[1]-x[0]**2)"
   ]
  },
  {
   "cell_type": "code",
   "execution_count": 28,
   "metadata": {},
   "outputs": [
    {
     "data": {
      "text/plain": [
       "4376064000"
      ]
     },
     "execution_count": 28,
     "metadata": {},
     "output_type": "execute_result"
    }
   ],
   "source": [
    "-400*x[0]*(x[1]-x[0]**2)"
   ]
  },
  {
   "cell_type": "code",
   "execution_count": 39,
   "metadata": {},
   "outputs": [
    {
     "data": {
      "text/plain": [
       "4376064442"
      ]
     },
     "execution_count": 39,
     "metadata": {},
     "output_type": "execute_result"
    }
   ],
   "source": [
    "-400 * x[0] * x[1] + 400 * x[0] ** 3 - 2 * (1 - x[0])"
   ]
  },
  {
   "cell_type": "code",
   "execution_count": 40,
   "metadata": {},
   "outputs": [
    {
     "data": {
      "text/plain": [
       "4366208442"
      ]
     },
     "execution_count": 40,
     "metadata": {},
     "output_type": "execute_result"
    }
   ],
   "source": [
    "-400*x[0]*(x[1]-x[0]**2) - 2*(1-x[0]) + 200*(x[1]-x[0]**2)"
   ]
  },
  {
   "cell_type": "code",
   "execution_count": 41,
   "metadata": {},
   "outputs": [
    {
     "data": {
      "text/plain": [
       "-9831994"
      ]
     },
     "execution_count": 41,
     "metadata": {},
     "output_type": "execute_result"
    }
   ],
   "source": [
    "-400 * x[1] * x[2] + 400 * x[1] ** 3 - 2 * (1 - x[1]) + 200 * (x[1] - x[0] ** 2)"
   ]
  },
  {
   "cell_type": "code",
   "execution_count": 42,
   "metadata": {},
   "outputs": [
    {
     "data": {
      "text/plain": [
       "-9831994"
      ]
     },
     "execution_count": 42,
     "metadata": {},
     "output_type": "execute_result"
    }
   ],
   "source": [
    "200*(x[1]-x[0]**2) - 400*x[1]*(x[2]-x[1]**2) - 2*(1-x[1])"
   ]
  },
  {
   "cell_type": "code",
   "execution_count": 43,
   "metadata": {},
   "outputs": [
    {
     "data": {
      "text/plain": [
       "-3000"
      ]
     },
     "execution_count": 43,
     "metadata": {},
     "output_type": "execute_result"
    }
   ],
   "source": [
    "200 * (x[2] - x[1] ** 2)"
   ]
  },
  {
   "cell_type": "code",
   "execution_count": 44,
   "metadata": {},
   "outputs": [
    {
     "data": {
      "text/plain": [
       "45000"
      ]
     },
     "execution_count": 44,
     "metadata": {},
     "output_type": "execute_result"
    }
   ],
   "source": [
    "200*(x[2]-x[1]**2)**2"
   ]
  },
  {
   "cell_type": "code",
   "execution_count": 52,
   "metadata": {},
   "outputs": [
    {
     "data": {
      "text/plain": [
       "-3000"
      ]
     },
     "execution_count": 52,
     "metadata": {},
     "output_type": "execute_result"
    }
   ],
   "source": [
    "200*(x[2]-x[1]**2)"
   ]
  },
  {
   "cell_type": "code",
   "execution_count": 53,
   "metadata": {},
   "outputs": [
    {
     "data": {
      "text/plain": [
       "242851911350"
      ]
     },
     "execution_count": 53,
     "metadata": {},
     "output_type": "execute_result"
    }
   ],
   "source": [
    "100 * (x[1] - x[0] **2) **2 + (1 - x[0]) ** 2 + 100 * (x[2] - x[1] ** 2) ** 2 + (1 - x[1]) ** 2"
   ]
  },
  {
   "cell_type": "code",
   "execution_count": 54,
   "metadata": {},
   "outputs": [
    {
     "data": {
      "text/plain": [
       "242851911350"
      ]
     },
     "execution_count": 54,
     "metadata": {},
     "output_type": "execute_result"
    }
   ],
   "source": [
    "100 * (x[2] - x[1] ** 2) ** 2 + (1 - x[1]) ** 2 + 100 * (x[1] - x[0] ** 2) ** 2 + (1 - x[0]) ** 2"
   ]
  },
  {
   "cell_type": "code",
   "execution_count": 79,
   "metadata": {},
   "outputs": [
    {
     "name": "stdout",
     "output_type": "stream",
     "text": [
      "4.53825437549e-17\n"
     ]
    }
   ],
   "source": [
    "trial1 = [5, 2, 7]\n",
    "trial2 = [-1, 1, 1]\n",
    "trial3 = [8, 2, 9]\n",
    "trials = [trial1, trial2, trial3]\n",
    "\n",
    "res = []\n",
    "for trial in trials:\n",
    "    res.append(optimize.minimize(rosenbrock_func, trial, method='BFGS', jac=rosenbrock_grad).fun)\n",
    "print(min(res))"
   ]
  },
  {
   "cell_type": "code",
   "execution_count": 60,
   "metadata": {},
   "outputs": [],
   "source": [
    "trial1 = [5, 2, 7]\n",
    "trial2 = [-1, 1, 1]\n",
    "trial3 = [8, 2, 9]\n",
    "trials = [trial1, trial2, trial3]"
   ]
  },
  {
   "cell_type": "code",
   "execution_count": 61,
   "metadata": {},
   "outputs": [],
   "source": [
    "x1 = [222, 4, 1]\n",
    "x2 = [-4, 5, 99]\n",
    "x3 = [66, 91, 20000]\n",
    "x4 = [34, 1, -5]\n",
    "x5 = [2, -5, 2]"
   ]
  },
  {
   "cell_type": "code",
   "execution_count": 65,
   "metadata": {},
   "outputs": [],
   "source": [
    "x = x1"
   ]
  },
  {
   "cell_type": "code",
   "execution_count": 73,
   "metadata": {},
   "outputs": [],
   "source": [
    "x = x1"
   ]
  },
  {
   "cell_type": "code",
   "execution_count": 74,
   "metadata": {},
   "outputs": [
    {
     "data": {
      "text/plain": [
       "array([9856000,       0,       0])"
      ]
     },
     "execution_count": 74,
     "metadata": {},
     "output_type": "execute_result"
    }
   ],
   "source": [
    "gradient(x) - rosenbrock_grad(x)"
   ]
  },
  {
   "cell_type": "code",
   "execution_count": 67,
   "metadata": {},
   "outputs": [
    {
     "data": {
      "text/plain": [
       "0"
      ]
     },
     "execution_count": 67,
     "metadata": {},
     "output_type": "execute_result"
    }
   ],
   "source": [
    "Rosenbrock(x) - rosenbrock_func(x)"
   ]
  },
  {
   "cell_type": "code",
   "execution_count": null,
   "metadata": {},
   "outputs": [],
   "source": [
    "from tree.tree import Tree, Node\n",
    "import unittest\n",
    "import numpy as np\n",
    "\n",
    "\n",
    "class test_Printtree(unittest.TestCase):\n",
    "    def test_printtree(self):\n",
    "        b = Node(1, None, None)\n",
    "        c = Node(2, b, None)\n",
    "        d = Node(5, c, None)\n",
    "        e = Node(7, None, d)\n",
    "        a = Tree(e)\n",
    "\n",
    "        res = np.array([['|', '|', '|', '7', '|', '|', '|'],\n",
    "                        ['|', '|', '|', '|', '5', '|', '|'],\n",
    "                        ['|', '|', '|', '2', '|', '|', '|'],\n",
    "                        ['|', '|', '1', '|', '|', '|', '|']])\n",
    "        assert len(res) == len(a.printTree(e))\n",
    "\n"
   ]
  },
  {
   "cell_type": "code",
   "execution_count": 156,
   "metadata": {},
   "outputs": [],
   "source": [
    "class Tree(object):\n",
    "    def __init__(self, root):\n",
    "        self.root = root\n",
    "    \"\"\"\n",
    "    def get_value_root(self):\n",
    "        if self.root is not None:\n",
    "            return self.root.value\n",
    "        else:\n",
    "            return None\n",
    "    \"\"\"\n",
    "\n",
    "    def get_height(self, root):\n",
    "        if not root:\n",
    "            return 0\n",
    "        return 1 + max(self.get_height(root.left), self.get_height(root.right))\n",
    "\n",
    "    def printTree(self, root):\n",
    "        N = self.get_height(root)\n",
    "        M = 2 ** N - 1\n",
    "        ret = [[\"|\"] * M for x in range(N)]\n",
    "        bfs = [(root, 0, 0, M)]\n",
    "        for x in bfs:\n",
    "            node, i, l, r = x[0], x[1], x[2], x[3]\n",
    "            j = (r + l) // 2\n",
    "            ret[i][j] = str(node.value)\n",
    "            if node.left:\n",
    "                bfs.append((node.left, i + 1, l, j))\n",
    "            if node.right:\n",
    "                bfs.append((node.right, i + 1, j, r))\n",
    "        return ret\n",
    "\n",
    "\n",
    "class Node(object):\n",
    "\n",
    "    def __init__(self, value, left, right):\n",
    "        self.value = value\n",
    "        self.left = left\n",
    "        self.right = right"
   ]
  },
  {
   "cell_type": "code",
   "execution_count": 157,
   "metadata": {},
   "outputs": [],
   "source": [
    "a = Node(1, Node(2, Node(4, None, None), None), Node(3, None, None))\n",
    "b = Tree(a)"
   ]
  },
  {
   "cell_type": "code",
   "execution_count": 160,
   "metadata": {},
   "outputs": [
    {
     "data": {
      "text/plain": [
       "[['|', '|', '|', '1', '|', '|', '|'],\n",
       " ['|', '2', '|', '|', '|', '3', '|'],\n",
       " ['4', '|', '|', '|', '|', '|', '|']]"
      ]
     },
     "execution_count": 160,
     "metadata": {},
     "output_type": "execute_result"
    }
   ],
   "source": [
    "b.printTree(a)"
   ]
  },
  {
   "cell_type": "code",
   "execution_count": 161,
   "metadata": {},
   "outputs": [
    {
     "ename": "TypeError",
     "evalue": "list indices must be integers, not tuple",
     "output_type": "error",
     "traceback": [
      "\u001b[0;31m---------------------------------------------------------------------------\u001b[0m",
      "\u001b[0;31mTypeError\u001b[0m                                 Traceback (most recent call last)",
      "\u001b[0;32m<ipython-input-161-abc18b99d953>\u001b[0m in \u001b[0;36m<module>\u001b[0;34m()\u001b[0m\n\u001b[1;32m      1\u001b[0m res = [['|', '|', '|', '1', '|', '|', '|']\n\u001b[0;32m----> 2\u001b[0;31m                \u001b[0;34m[\u001b[0m\u001b[0;34m'|'\u001b[0m\u001b[0;34m,\u001b[0m \u001b[0;34m'2'\u001b[0m\u001b[0;34m,\u001b[0m \u001b[0;34m'|'\u001b[0m\u001b[0;34m,\u001b[0m \u001b[0;34m'|'\u001b[0m\u001b[0;34m,\u001b[0m \u001b[0;34m'|'\u001b[0m\u001b[0;34m,\u001b[0m \u001b[0;34m'3'\u001b[0m\u001b[0;34m,\u001b[0m \u001b[0;34m'|'\u001b[0m\u001b[0;34m]\u001b[0m\u001b[0;34m\u001b[0m\u001b[0m\n\u001b[0m\u001b[1;32m      3\u001b[0m                ['4', '|', '|', '|', '|', '|', '|']]\n",
      "\u001b[0;31mTypeError\u001b[0m: list indices must be integers, not tuple"
     ]
    }
   ],
   "source": [
    "res = [['|', '|', '|', '1', '|', '|', '|']\n",
    "               ['|', '2', '|', '|', '|', '3', '|']\n",
    "               ['4', '|', '|', '|', '|', '|', '|']]"
   ]
  },
  {
   "cell_type": "code",
   "execution_count": null,
   "metadata": {},
   "outputs": [],
   "source": []
  }
 ],
 "metadata": {
  "kernelspec": {
   "display_name": "Python 2",
   "language": "python",
   "name": "python2"
  },
  "language_info": {
   "codemirror_mode": {
    "name": "ipython",
    "version": 2
   },
   "file_extension": ".py",
   "mimetype": "text/x-python",
   "name": "python",
   "nbconvert_exporter": "python",
   "pygments_lexer": "ipython2",
   "version": "2.7.15"
  }
 },
 "nbformat": 4,
 "nbformat_minor": 2
}
